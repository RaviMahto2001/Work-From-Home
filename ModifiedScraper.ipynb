{
 "cells": [
  {
   "cell_type": "code",
   "execution_count": null,
   "id": "fa56cd7a",
   "metadata": {},
   "outputs": [],
   "source": [
    "Api_key = \"YDVvKBTBxDURiCknM67y0jXlr\"\n",
    "Api_key_secret = \"cizo6bDu7QDCMNlnJj0dQ3XMVQqFjbM1XrZK2fVy4hTkJAkK9n\"\n",
    "Bearer_token = \"AAAAAAAAAAAAAAAAAAAAAPyafQEAAAAAD3w35GKTZwnVdFRYYyc512T0yao%3D5dpa2UqSgQjwbqRFQ2K1x0OYoTjKoRfsnbtcpCHHh7P2Pcn5Xq\"\n",
    "Access_token = \"1476551265425367042-noWiZixOKsNjzvv7YAXG2ziZ5WTeHY\"\n",
    "Access_token_secret = \"10HcO37VDIjX8JVBMWKc6ww3kMa09WubfOZTIdgaOnDvu\""
   ]
  },
  {
   "cell_type": "code",
   "execution_count": null,
   "id": "778ca163",
   "metadata": {},
   "outputs": [],
   "source": [
    "import tweepy"
   ]
  },
  {
   "cell_type": "code",
   "execution_count": null,
   "id": "b5ecb0c3",
   "metadata": {},
   "outputs": [],
   "source": [
    "import pandas as pd"
   ]
  },
  {
   "cell_type": "code",
   "execution_count": null,
   "id": "eb7524e4",
   "metadata": {},
   "outputs": [],
   "source": [
    "auth = tweepy.OAuth1UserHandler(Api_key,Api_key_secret,Access_token,Access_token_secret)"
   ]
  },
  {
   "cell_type": "code",
   "execution_count": null,
   "id": "734b7922",
   "metadata": {},
   "outputs": [],
   "source": [
    "api = tweepy.API(auth,wait_on_rate_limit = True)"
   ]
  },
  {
   "cell_type": "code",
   "execution_count": null,
   "id": "0c5c0a9f",
   "metadata": {},
   "outputs": [],
   "source": [
    "#defining things"
   ]
  },
  {
   "cell_type": "code",
   "execution_count": null,
   "id": "1fa4e7c2",
   "metadata": {},
   "outputs": [],
   "source": [
    "def printtweetdata(n, ith_tweet):\n",
    "        print()\n",
    "        print(f\"Tweet {n}:\")\n",
    "        print(f\"tweetid : {ith_tweet[0]}\")\n",
    "        print(f\"datetime_tweeted : {ith_tweet[1]}\")\n",
    "        print(f\"tweeted_from : {ith_tweet[2]}\")\n",
    "        print(f\"username : {ith_tweet[3]}\")\n",
    "        print(f\"profile_name : {ith_tweet[4]}\")\n",
    "        print(f\"user_description : {ith_tweet[5]}\")\n",
    "        print(f\"user_location : {ith_tweet[6]}\")\n",
    "        print(f\"verified : {ith_tweet[7]}\")\n",
    "        print(f\"followers : {ith_tweet[8]}\")\n",
    "        print(f\"likes : {ith_tweet[9]}\")\n",
    "        print(f\"retweets : {ith_tweet[10]}\")\n",
    "        print(f\"tweet_lang : {ith_tweet[11]}\")\n",
    "        print(f\"text : {ith_tweet[12]}\")\n",
    "        print(f\"quoted_tweet_text : {ith_tweet[13]}\")\n",
    "        print(f\"user_mentions : {ith_tweet[14]}\")\n",
    "        print(f\"hashtag : {ith_tweet[15]}\")\n",
    "        "
   ]
  },
  {
   "cell_type": "code",
   "execution_count": null,
   "id": "d39e5496",
   "metadata": {},
   "outputs": [],
   "source": [
    "tweets=None"
   ]
  },
  {
   "cell_type": "code",
   "execution_count": null,
   "id": "823db2c1",
   "metadata": {},
   "outputs": [],
   "source": [
    "def scrape(words, date_since, numtweet):\n",
    "        db = pd.DataFrame(columns=['tweetid',\n",
    "                                   'datetime_tweeted',\n",
    "                                   'tweeted_from',\n",
    "                                   'username',\n",
    "                                   'profile_name',\n",
    "                                   'user_description',\n",
    "                                   'user_location',\n",
    "                                   'verified',\n",
    "                                   'followers',\n",
    "                                   'likes',\n",
    "                                   'retweets',\n",
    "                                   'tweet_lang',\n",
    "                                   'text',\n",
    "                                   'quoted_tweet_text',\n",
    "                                   'user_mentions',\n",
    "                                   'hashtags'])\n",
    "        \n",
    "        tweets = tweepy.Cursor(api.search_tweets,\n",
    "                               words,\n",
    "                               since_id = date_since,\n",
    "                               tweet_mode = 'extended').items(numtweet)\n",
    "        \n",
    "        list_tweets = [tweet for tweet in tweets]\n",
    "        \n",
    "        i=1\n",
    "        \n",
    "        for tweet in list_tweets:\n",
    "                \n",
    "                tweetid = tweet.id_str\n",
    "                \n",
    "                try:\n",
    "                    text = tweet.retweeted_status.full_text\n",
    "                except AttributeError:\n",
    "                    text = tweet.full_text\n",
    "                \n",
    "                datetime_tweeted = tweet.created_at\n",
    "                tweeted_from = tweet.source\n",
    "                \n",
    "                try:\n",
    "                    quoted_tweet_text = tweet.quoted_status.text\n",
    "                except AttributeError:\n",
    "                    quoted_tweet_text = None\n",
    "                \n",
    "                likes = tweet.favorite_count\n",
    "                retweets = tweet.retweet_count\n",
    "                \n",
    "                hashtext = tweet.entities['hashtags']\n",
    "                hashtags = list()\n",
    "                for j in range(0, len(hashtext)):\n",
    "                        hashtags.append(hashtext[j]['text'])\n",
    "                    \n",
    "                um = tweet.entities['user_mentions']\n",
    "                user_mentions = list()\n",
    "                for j in range(0, len(um)):\n",
    "                        user_mentions.append(str(um[j]['screen_name'] + \" / \" + um[j]['name']))\n",
    "                \n",
    "                username = tweet.user.screen_name\n",
    "                profile_name = tweet.user.name\n",
    "                user_location = tweet.user.location\n",
    "                user_description = tweet.user.description\n",
    "                verified = tweet.user.verified\n",
    "                followers = tweet.user.followers_count\n",
    "                tweet_lang = tweet.lang\n",
    "                \n",
    "                ith_tweet = [tweetid,\n",
    "                             datetime_tweeted,\n",
    "                             tweeted_from,\n",
    "                             username,\n",
    "                             profile_name,\n",
    "                             user_description,\n",
    "                             user_location,\n",
    "                             verified,\n",
    "                             followers,\n",
    "                             likes,\n",
    "                             retweets,\n",
    "                             tweet_lang,\n",
    "                             text,\n",
    "                             quoted_tweet_text,\n",
    "                             user_mentions,\n",
    "                             hashtags\n",
    "                            ]\n",
    "                \n",
    "                #creating dataframe\n",
    "                db.loc[len(db)] = ith_tweet\n",
    "                \n",
    "                printtweetdata(i, ith_tweet)\n",
    "                i = i+1\n",
    "                \n",
    "        #filename = 'workfromhomedata1.csv' \n",
    "        #db.to_csv(filename)\n",
    "        "
   ]
  },
  {
   "cell_type": "code",
   "execution_count": null,
   "id": "5d3f1bcf",
   "metadata": {},
   "outputs": [],
   "source": [
    "words = \"work from home\"\n",
    "datesince = \"2022-08-01\"\n",
    "num = 20"
   ]
  },
  {
   "cell_type": "code",
   "execution_count": null,
   "id": "cc4a8ade",
   "metadata": {
    "scrolled": false
   },
   "outputs": [],
   "source": [
    "scrape(words,datesince,num)"
   ]
  },
  {
   "cell_type": "code",
   "execution_count": null,
   "id": "90164b39",
   "metadata": {},
   "outputs": [],
   "source": []
  }
 ],
 "metadata": {
  "kernelspec": {
   "display_name": "Python 3 (ipykernel)",
   "language": "python",
   "name": "python3"
  },
  "language_info": {
   "codemirror_mode": {
    "name": "ipython",
    "version": 3
   },
   "file_extension": ".py",
   "mimetype": "text/x-python",
   "name": "python",
   "nbconvert_exporter": "python",
   "pygments_lexer": "ipython3",
   "version": "3.9.12"
  }
 },
 "nbformat": 4,
 "nbformat_minor": 5
}
